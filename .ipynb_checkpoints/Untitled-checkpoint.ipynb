{
 "cells": [
  {
   "cell_type": "markdown",
   "id": "19db6931",
   "metadata": {},
   "source": [
    "# Why scipy\n",
    "\n",
    "# It has newly added function and optimized function that are frequently used in numpy and in data science\n",
    "# The module predominantly uses python but few segments are written in c "
   ]
  },
  {
   "cell_type": "code",
   "execution_count": 4,
   "id": "f5e52df2",
   "metadata": {},
   "outputs": [],
   "source": [
    "import scipy.constants as con\n"
   ]
  },
  {
   "cell_type": "code",
   "execution_count": 6,
   "id": "7146903a",
   "metadata": {},
   "outputs": [
    {
     "name": "stdout",
     "output_type": "stream",
     "text": [
      "0.001\n",
      "1.11.1\n"
     ]
    }
   ],
   "source": [
    "print(scipy.__version__)\n",
    "print(con.liter)"
   ]
  },
  {
   "cell_type": "code",
   "execution_count": 7,
   "id": "33fd98d3",
   "metadata": {},
   "outputs": [
    {
     "name": "stdout",
     "output_type": "stream",
     "text": [
      "3.141592653589793\n"
     ]
    }
   ],
   "source": [
    "print(con.pi)"
   ]
  },
  {
   "cell_type": "code",
   "execution_count": 8,
   "id": "384c982e",
   "metadata": {},
   "outputs": [
    {
     "name": "stdout",
     "output_type": "stream",
     "text": [
      "['Avogadro', 'Boltzmann', 'Btu', 'Btu_IT', 'Btu_th', 'ConstantWarning', 'G', 'Julian_year', 'N_A', 'Planck', 'R', 'Rydberg', 'Stefan_Boltzmann', 'Wien', '__all__', '__builtins__', '__cached__', '__doc__', '__file__', '__loader__', '__name__', '__package__', '__path__', '__spec__', '_codata', '_constants', '_obsolete_constants', 'acre', 'alpha', 'angstrom', 'arcmin', 'arcminute', 'arcsec', 'arcsecond', 'astronomical_unit', 'atm', 'atmosphere', 'atomic_mass', 'atto', 'au', 'bar', 'barrel', 'bbl', 'blob', 'c', 'calorie', 'calorie_IT', 'calorie_th', 'carat', 'centi', 'codata', 'constants', 'convert_temperature', 'day', 'deci', 'degree', 'degree_Fahrenheit', 'deka', 'dyn', 'dyne', 'e', 'eV', 'electron_mass', 'electron_volt', 'elementary_charge', 'epsilon_0', 'erg', 'exa', 'exbi', 'femto', 'fermi', 'find', 'fine_structure', 'fluid_ounce', 'fluid_ounce_US', 'fluid_ounce_imp', 'foot', 'g', 'gallon', 'gallon_US', 'gallon_imp', 'gas_constant', 'gibi', 'giga', 'golden', 'golden_ratio', 'grain', 'gram', 'gravitational_constant', 'h', 'hbar', 'hectare', 'hecto', 'horsepower', 'hour', 'hp', 'inch', 'k', 'kgf', 'kibi', 'kilo', 'kilogram_force', 'kmh', 'knot', 'lambda2nu', 'lb', 'lbf', 'light_year', 'liter', 'litre', 'long_ton', 'm_e', 'm_n', 'm_p', 'm_u', 'mach', 'mebi', 'mega', 'metric_ton', 'micro', 'micron', 'mil', 'mile', 'milli', 'minute', 'mmHg', 'mph', 'mu_0', 'nano', 'nautical_mile', 'neutron_mass', 'nu2lambda', 'ounce', 'oz', 'parsec', 'pebi', 'peta', 'physical_constants', 'pi', 'pico', 'point', 'pound', 'pound_force', 'precision', 'proton_mass', 'psi', 'pt', 'quecto', 'quetta', 'ronna', 'ronto', 'short_ton', 'sigma', 'slinch', 'slug', 'speed_of_light', 'speed_of_sound', 'stone', 'survey_foot', 'survey_mile', 'tebi', 'tera', 'test', 'ton_TNT', 'torr', 'troy_ounce', 'troy_pound', 'u', 'unit', 'value', 'week', 'yard', 'year', 'yobi', 'yocto', 'yotta', 'zebi', 'zepto', 'zero_Celsius', 'zetta']\n"
     ]
    }
   ],
   "source": [
    "print(dir(con))"
   ]
  },
  {
   "cell_type": "code",
   "execution_count": 9,
   "id": "66043397",
   "metadata": {},
   "outputs": [
    {
     "data": {
      "text/plain": [
       "1.380649e-23"
      ]
     },
     "execution_count": 9,
     "metadata": {},
     "output_type": "execute_result"
    }
   ],
   "source": [
    "con.Boltzmann"
   ]
  },
  {
   "cell_type": "code",
   "execution_count": 10,
   "id": "b80fd127",
   "metadata": {},
   "outputs": [
    {
     "data": {
      "text/plain": [
       "2.9573529562499998e-05"
      ]
     },
     "execution_count": 10,
     "metadata": {},
     "output_type": "execute_result"
    }
   ],
   "source": [
    "con.fluid_ounce_US"
   ]
  },
  {
   "cell_type": "code",
   "execution_count": 12,
   "id": "8744d75c",
   "metadata": {},
   "outputs": [
    {
     "name": "stdout",
     "output_type": "stream",
     "text": [
      "1024\n",
      "1048576\n",
      "1073741824\n",
      "1208925819614629174706176\n"
     ]
    }
   ],
   "source": [
    "#specified unit in bytes\n",
    "\n",
    "print(con.kibi)\n",
    "print(con.mebi)\n",
    "print(con.gibi)\n",
    "print(con.yobi)"
   ]
  },
  {
   "cell_type": "markdown",
   "id": "1c016c47",
   "metadata": {},
   "source": [
    "# Units of mass in KG"
   ]
  },
  {
   "cell_type": "code",
   "execution_count": 16,
   "id": "7b8688c0",
   "metadata": {},
   "outputs": [
    {
     "name": "stdout",
     "output_type": "stream",
     "text": [
      "0.001\n",
      "1000.0\n",
      "6.479891e-05\n",
      "0.45359236999999997\n",
      "0.028349523124999998\n",
      "1.6605390666e-27\n"
     ]
    }
   ],
   "source": [
    "\n",
    "print(con.gram)\n",
    "print(con.metric_ton)\n",
    "print(con.grain)\n",
    "print(con.pound)\n",
    "print(con.oz)\n",
    "print(con.atomic_mass)"
   ]
  },
  {
   "cell_type": "markdown",
   "id": "ed9497ca",
   "metadata": {},
   "source": [
    "# specified unit in radians"
   ]
  },
  {
   "cell_type": "code",
   "execution_count": 18,
   "id": "fe56d054",
   "metadata": {},
   "outputs": [],
   "source": [
    "import scipy.constants as c"
   ]
  },
  {
   "cell_type": "code",
   "execution_count": 20,
   "id": "a9100c24",
   "metadata": {},
   "outputs": [
    {
     "name": "stdout",
     "output_type": "stream",
     "text": [
      "0.017453292519943295\n",
      "0.0002908882086657216\n",
      "0.0002908882086657216\n",
      "4.84813681109536e-06\n"
     ]
    }
   ],
   "source": [
    "print(c.degree)\n",
    "print(c.arcmin) #print(c.arcminute)\n",
    "print(c.arcsec) #print(constants.arcsecond)"
   ]
  },
  {
   "cell_type": "markdown",
   "id": "76cd2230",
   "metadata": {},
   "source": [
    "# specified unit in seconds"
   ]
  },
  {
   "cell_type": "code",
   "execution_count": 25,
   "id": "31753e86",
   "metadata": {},
   "outputs": [
    {
     "name": "stdout",
     "output_type": "stream",
     "text": [
      "60.0\n",
      "604800.0\n",
      "86400.0\n",
      "31536000.0\n",
      "31557600.0\n"
     ]
    }
   ],
   "source": [
    "print(c.minute)\n",
    "print(c.week)\n",
    "print(c.day)\n",
    "print(c.year)\n",
    "print(c.Julian_year)# note that the J is capitle"
   ]
  },
  {
   "cell_type": "markdown",
   "id": "fd44d0fd",
   "metadata": {},
   "source": [
    "# specified unit in meters"
   ]
  },
  {
   "cell_type": "code",
   "execution_count": 28,
   "id": "80ab122f",
   "metadata": {},
   "outputs": [
    {
     "name": "stdout",
     "output_type": "stream",
     "text": [
      "1609.3439999999998\n",
      "0.30479999999999996\n",
      "0.0254\n",
      "0.9143999999999999\n"
     ]
    }
   ],
   "source": [
    "print(c.mile)\n",
    "print(c.foot)\n",
    "print(c.inch)\n",
    "print(c.yard)"
   ]
  },
  {
   "cell_type": "markdown",
   "id": "bc5c5b47",
   "metadata": {},
   "source": [
    "# specified unit in pascals"
   ]
  },
  {
   "cell_type": "code",
   "execution_count": 33,
   "id": "975c5851",
   "metadata": {},
   "outputs": [
    {
     "name": "stdout",
     "output_type": "stream",
     "text": [
      "101325.0\n",
      "101325.0\n",
      "100000.0\n",
      "6894.757293168361\n"
     ]
    }
   ],
   "source": [
    "print(c.atm)\n",
    "print(c.atmosphere)\n",
    "print(c.bar)\n",
    "print(c.psi)"
   ]
  },
  {
   "cell_type": "markdown",
   "id": "2360e2aa",
   "metadata": {},
   "source": [
    "# specified unit in square meters"
   ]
  },
  {
   "cell_type": "code",
   "execution_count": 34,
   "id": "925abe4a",
   "metadata": {},
   "outputs": [
    {
     "name": "stdout",
     "output_type": "stream",
     "text": [
      "4046.8564223999992\n"
     ]
    }
   ],
   "source": [
    "print(c.acre)"
   ]
  },
  {
   "cell_type": "markdown",
   "id": "91398f43",
   "metadata": {},
   "source": [
    "# specified unit in cubic meters "
   ]
  },
  {
   "cell_type": "code",
   "execution_count": 35,
   "id": "d9cb4367",
   "metadata": {},
   "outputs": [
    {
     "name": "stdout",
     "output_type": "stream",
     "text": [
      "0.001\n",
      "0.001\n",
      "0.0037854117839999997\n",
      "0.15898729492799998\n"
     ]
    }
   ],
   "source": [
    "print(c.liter)\n",
    "print(c.litre)\n",
    "print(c.gallon)\n",
    "print(c.bbl)"
   ]
  },
  {
   "cell_type": "markdown",
   "id": "64d4cf79",
   "metadata": {},
   "source": [
    "# ROOTS of non linear equation"
   ]
  },
  {
   "cell_type": "code",
   "execution_count": 45,
   "id": "c798440d",
   "metadata": {},
   "outputs": [
    {
     "name": "stdout",
     "output_type": "stream",
     "text": [
      "[-0.73908513]\n"
     ]
    }
   ],
   "source": [
    "from scipy.optimize import root as rt\n",
    "from math import cos as cos\n",
    "\n",
    "def equation(x):\n",
    "    return x + cos(x)\n",
    "\n",
    "myroot = rt(equation,0)\n",
    "\n",
    "# print(myroot)\n",
    "# print(myroot.message)\n",
    "# print(myroot.success)\n",
    "# print(myroot.status)\n",
    "# print(myroot.fun)\n",
    "print(myroot.x)"
   ]
  },
  {
   "cell_type": "code",
   "execution_count": 51,
   "id": "b81af806",
   "metadata": {},
   "outputs": [
    {
     "name": "stdout",
     "output_type": "stream",
     "text": [
      "minimum value at:  [1.00000045]\n",
      "minimum value is:  -0.9999999999995912\n"
     ]
    }
   ],
   "source": [
    "from scipy.optimize import minimize as miin\n",
    "\n",
    "def fun(x):\n",
    "    return x-x**2+x**3-2*x\n",
    "\n",
    "x = 8\n",
    "\n",
    "myroots = miin(fun,x,method = 'BFGS')\n",
    "\n",
    "print(\"minimum value at: \",myroots.x)\n",
    "print(\"minimum value is: \",myroots.fun)\n",
    "# print(myroots.y)\n"
   ]
  },
  {
   "cell_type": "markdown",
   "id": "d93b4d14",
   "metadata": {},
   "source": [
    "##SciPy Sparse Data"
   ]
  },
  {
   "cell_type": "code",
   "execution_count": 61,
   "id": "f4bddd51",
   "metadata": {},
   "outputs": [
    {
     "name": "stdout",
     "output_type": "stream",
     "text": [
      "  (0, 0)\t1\n",
      "  (0, 1)\t2\n",
      "  (0, 7)\t8\n"
     ]
    }
   ],
   "source": [
    "from scipy.sparse import csr_matrix as csr\n",
    "import numpy as np\n",
    "\n",
    "# csr : compressed sparse row\n",
    "# csc : compressed sparse column\n",
    "\n",
    "x = np.array([1,2,0,0,0,0,0,8,0,0,0])\n",
    "mat = csr(x)\n",
    "print(mat)"
   ]
  },
  {
   "cell_type": "code",
   "execution_count": 71,
   "id": "f905a27a",
   "metadata": {},
   "outputs": [
    {
     "name": "stdout",
     "output_type": "stream",
     "text": [
      "csr matrix is: \n",
      "   (1, 0)\t4\n",
      "  (1, 2)\t7\n",
      "  (2, 3)\t5\n",
      "  (3, 0)\t4\n",
      "  (3, 2)\t7\n",
      "no of non zero is:  5\n",
      "non zero values are:  [4 7 5 4 7]\n"
     ]
    }
   ],
   "source": [
    "from scipy.sparse import csr_matrix as csr\n",
    "import numpy as np\n",
    "\n",
    "x = [[0,0,0,0],[4,0,7,0],[0,0,0,5],[4,0,7,0]]\n",
    "\n",
    "nparr = np.array(x)\n",
    "\n",
    "mat = csr(nparr)\n",
    "print(\"csr matrix is: \\n\",mat)\n",
    "print(\"no of non zero is: \",mat.count_nonzero())\n",
    "print(\"non zero values are: \",mat.data)"
   ]
  },
  {
   "cell_type": "code",
   "execution_count": 70,
   "id": "d717d4e0",
   "metadata": {},
   "outputs": [
    {
     "name": "stdout",
     "output_type": "stream",
     "text": [
      "  (1, 0)\t9\n",
      "  (2, 3)\t5\n",
      "  (3, 0)\t4\n",
      "  (3, 2)\t7\n"
     ]
    }
   ],
   "source": [
    "# now lets eliminate zeroes from the matrix\n",
    "\n",
    "mat.eliminate_zeros()\n",
    "\n",
    "print(mat)"
   ]
  },
  {
   "cell_type": "code",
   "execution_count": 74,
   "id": "0368b93f",
   "metadata": {},
   "outputs": [
    {
     "name": "stdout",
     "output_type": "stream",
     "text": [
      "  (1, 0)\t4\n",
      "  (1, 2)\t7\n",
      "  (2, 3)\t5\n",
      "  (3, 0)\t4\n",
      "  (3, 2)\t7\n"
     ]
    }
   ],
   "source": [
    "mat.sum_duplicates()\n",
    "print(mat)"
   ]
  },
  {
   "cell_type": "code",
   "execution_count": 75,
   "id": "41b1a97c",
   "metadata": {},
   "outputs": [
    {
     "name": "stdout",
     "output_type": "stream",
     "text": [
      "  (1, 0)\t4\n",
      "  (1, 2)\t7\n",
      "  (2, 3)\t5\n",
      "  (3, 0)\t4\n",
      "  (3, 2)\t7\n"
     ]
    }
   ],
   "source": [
    "#tocsc() method\n",
    "\n",
    "mat.tocsc()\n",
    "print(mat)"
   ]
  },
  {
   "cell_type": "markdown",
   "id": "56218922",
   "metadata": {},
   "source": [
    "# SciPy graphs"
   ]
  },
  {
   "cell_type": "code",
   "execution_count": 82,
   "id": "ac72b9eb",
   "metadata": {},
   "outputs": [
    {
     "name": "stdout",
     "output_type": "stream",
     "text": [
      "(1, array([0, 0, 0, 0]))\n"
     ]
    }
   ],
   "source": [
    "# Adjacency matrix\n",
    "\n",
    "# connected components\n",
    "\n",
    "from scipy.sparse.csgraph import connected_components as cc\n",
    "from scipy.sparse import csr_matrix as csr\n",
    "\n",
    "import numpy as np\n",
    "\n",
    "arr = np.array([\n",
    "    [0,0,1,2],\n",
    "    [4,0,0,0],\n",
    "    [0,0,9,0],\n",
    "    [6,0,0,0]\n",
    "])\n",
    "\n",
    "arr = csr(arr)\n",
    "\n",
    "print(cc(arr))"
   ]
  },
  {
   "cell_type": "code",
   "execution_count": 85,
   "id": "a3514ff0",
   "metadata": {},
   "outputs": [
    {
     "name": "stdout",
     "output_type": "stream",
     "text": [
      "(array([ 0., inf,  1.,  2.]), array([-9999, -9999,     0,     0]))\n"
     ]
    }
   ],
   "source": [
    "# Dijkstra method\n",
    "from scipy.sparse.csgraph import dijkstra as dks\n",
    "\n",
    "narr = csr(arr)\n",
    "print(dks(narr,return_predecessors = True , indices = 0))"
   ]
  },
  {
   "cell_type": "code",
   "execution_count": 92,
   "id": "efadb19b",
   "metadata": {},
   "outputs": [
    {
     "name": "stdout",
     "output_type": "stream",
     "text": [
      "(array([[ 0.,  2.,  3.,  4.],\n",
      "       [inf,  0., inf, inf],\n",
      "       [ 6.,  8.,  0., 10.],\n",
      "       [ 1.,  3.,  4.,  0.]]), array([[-9999,     0,     0,     0],\n",
      "       [-9999, -9999, -9999, -9999],\n",
      "       [    2,     0, -9999,     0],\n",
      "       [    3,     0,     3, -9999]]))\n"
     ]
    }
   ],
   "source": [
    "# Floyd Warshall\n",
    "from scipy.sparse.csgraph import floyd_warshall as fw\n",
    "\n",
    "arr = np.array([\n",
    "    [1,2,3,4],\n",
    "    [0,0,0,0],\n",
    "    [6,0,0,0],\n",
    "    [1,0,4,0]\n",
    "])\n",
    "csrarr = scipy.sparse.csr_matrix(arr)\n",
    "\n",
    "print(fw(csrarr,return_predecessors=True))"
   ]
  },
  {
   "cell_type": "code",
   "execution_count": 100,
   "id": "89d3baeb",
   "metadata": {},
   "outputs": [
    {
     "name": "stdout",
     "output_type": "stream",
     "text": [
      "(array([0., 2., 3., 4.]), array([-9999,     0,     0,     0]))\n"
     ]
    }
   ],
   "source": [
    "# Bellman Ford\n",
    "# demonstration of bellman_ford() method\n",
    "\n",
    "from scipy.sparse.csgraph import bellman_ford as bf\n",
    "\n",
    "import numpy as np\n",
    "from scipy.sparse import csr_matrix as csr\n",
    "\n",
    "nparr = np.array([\n",
    "    [1,2,3,4],\n",
    "    [0,0,0,0],\n",
    "    [0,0,0,0],\n",
    "    [9,0,0,0]\n",
    "])\n",
    "\n",
    "csrmat = csr(nparr)\n",
    "print(bf(csrmat,return_predecessors = True,indices = 0))"
   ]
  },
  {
   "cell_type": "code",
   "execution_count": 102,
   "id": "b3f228ff",
   "metadata": {},
   "outputs": [
    {
     "name": "stdout",
     "output_type": "stream",
     "text": [
      "(array([1]), array([-9999, -9999, -9999, -9999]))\n",
      "(array([1]), array([-9999, -9999, -9999, -9999]))\n"
     ]
    }
   ],
   "source": [
    "# depth_first_order()\n",
    "from scipy.sparse.csgraph import depth_first_order as dfs\n",
    "from scipy.sparse.csgraph import breadth_first_order as bfs\n",
    "from scipy.sparse import csr_matrix as csr\n",
    "import numpy as np\n",
    "\n",
    "arr = np.array([\n",
    "        [1,2,3,4],\n",
    "        [0,0,0,0],\n",
    "        [0,0,0,0],\n",
    "        [9,0,0,0]\n",
    "])\n",
    "\n",
    "csrarr = csr(arr)\n",
    "\n",
    "print(dfs(csrarr,1))\n",
    "print(bfs(csrarr,1))"
   ]
  },
  {
   "cell_type": "code",
   "execution_count": null,
   "id": "d82205f8",
   "metadata": {},
   "outputs": [],
   "source": []
  }
 ],
 "metadata": {
  "kernelspec": {
   "display_name": "Python 3 (ipykernel)",
   "language": "python",
   "name": "python3"
  },
  "language_info": {
   "codemirror_mode": {
    "name": "ipython",
    "version": 3
   },
   "file_extension": ".py",
   "mimetype": "text/x-python",
   "name": "python",
   "nbconvert_exporter": "python",
   "pygments_lexer": "ipython3",
   "version": "3.10.7"
  }
 },
 "nbformat": 4,
 "nbformat_minor": 5
}
